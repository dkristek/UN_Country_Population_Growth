{
 "cells": [
  {
   "cell_type": "code",
   "execution_count": 188,
   "id": "8e41bc9b",
   "metadata": {},
   "outputs": [],
   "source": [
    "import numpy as np\n",
    "import pandas as pd\n",
    "import psycopg2\n",
    "import matplotlib.pylab as plt #for visualization\n",
    "%matplotlib inline             \n",
    "from statsmodels.tsa.stattools import adfuller\n",
    "from statsmodels.graphics.tsaplots import plot_pacf\n",
    "from pandas.plotting import autocorrelation_plot\n",
    "from statsmodels.tsa.seasonal import seasonal_decompose\n",
    "from statsmodels.tsa.arima.model import ARIMA\n",
    "from matplotlib.pylab import rcParams\n",
    "rcParams['figure.figsize'] = 10, 6\n",
    "from config import param_dic"
   ]
  },
  {
   "cell_type": "code",
   "execution_count": 189,
   "id": "1fd9fa80",
   "metadata": {},
   "outputs": [],
   "source": [
    "#define function to conenct to sql database\n",
    "def connect(conn_params_dic):\n",
    "    conn = None\n",
    "    try:\n",
    "        print('Connecting to the PostgreSQL...........')\n",
    "        conn = psycopg2.connect(**conn_params_dic)\n",
    "        print(\"Connection successful..................\")\n",
    "        \n",
    "    except OperationalError as err:\n",
    "        # passing exception to function\n",
    "        show_psycopg2_exception(err)        \n",
    "        # set the connection to 'None' in case of error\n",
    "        conn = None\n",
    "    return conn"
   ]
  },
  {
   "cell_type": "code",
   "execution_count": null,
   "id": "33162ce1",
   "metadata": {},
   "outputs": [],
   "source": []
  },
  {
   "cell_type": "code",
   "execution_count": 190,
   "id": "b6e68b3f",
   "metadata": {},
   "outputs": [],
   "source": [
    "# Define a function that handles and parses psycopg2 exceptions\n",
    "def show_psycopg2_exception(err):\n",
    "    # get details about the exception\n",
    "    err_type, err_obj, traceback = sys.exc_info()    \n",
    "    # get the line number when exception occured\n",
    "    line_n = traceback.tb_lineno    \n",
    "    # print the connect() error\n",
    "    print (\"\\npsycopg2 ERROR:\", err, \"on line number:\", line_n)\n",
    "    print (\"psycopg2 traceback:\", traceback, \"-- type:\", err_type) \n",
    "    # psycopg2 extensions.Diagnostics object attribute\n",
    "    print (\"\\nextensions.Diagnostics:\", err.diag)    \n",
    "    # print the pgcode and pgerror exceptions\n",
    "    print (\"pgerror:\", err.pgerror)\n",
    "    print (\"pgcode:\", err.pgcode, \"\\n\")"
   ]
  },
  {
   "cell_type": "code",
   "execution_count": null,
   "id": "0ca86444",
   "metadata": {},
   "outputs": [],
   "source": []
  },
  {
   "cell_type": "code",
   "execution_count": 192,
   "id": "76e80b4a",
   "metadata": {},
   "outputs": [
    {
     "name": "stdout",
     "output_type": "stream",
     "text": [
      "Connecting to the PostgreSQL...........\n",
      "Connection successful..................\n"
     ]
    }
   ],
   "source": [
    "#connect to database\n",
    "conn = connect(param_dic)"
   ]
  },
  {
   "cell_type": "code",
   "execution_count": 193,
   "id": "15c118f1",
   "metadata": {},
   "outputs": [],
   "source": [
    "#create cursor object\n",
    "cursor = conn.cursor()"
   ]
  },
  {
   "cell_type": "code",
   "execution_count": 194,
   "id": "bd48f8e7",
   "metadata": {},
   "outputs": [],
   "source": [
    "#get data\n",
    "#for this will just grab the first country which is China\n",
    "cursor.execute('''SELECT mid_year, population from populations where country_id = '1' ''')\n"
   ]
  },
  {
   "cell_type": "code",
   "execution_count": 195,
   "id": "d92786c5",
   "metadata": {},
   "outputs": [
    {
     "data": {
      "text/html": [
       "<div>\n",
       "<style scoped>\n",
       "    .dataframe tbody tr th:only-of-type {\n",
       "        vertical-align: middle;\n",
       "    }\n",
       "\n",
       "    .dataframe tbody tr th {\n",
       "        vertical-align: top;\n",
       "    }\n",
       "\n",
       "    .dataframe thead th {\n",
       "        text-align: right;\n",
       "    }\n",
       "</style>\n",
       "<table border=\"1\" class=\"dataframe\">\n",
       "  <thead>\n",
       "    <tr style=\"text-align: right;\">\n",
       "      <th></th>\n",
       "      <th>Year</th>\n",
       "      <th>Population (Thousands)</th>\n",
       "    </tr>\n",
       "  </thead>\n",
       "  <tbody>\n",
       "    <tr>\n",
       "      <th>0</th>\n",
       "      <td>1990</td>\n",
       "      <td>1172445</td>\n",
       "    </tr>\n",
       "    <tr>\n",
       "      <th>1</th>\n",
       "      <td>1991</td>\n",
       "      <td>1189184</td>\n",
       "    </tr>\n",
       "    <tr>\n",
       "      <th>2</th>\n",
       "      <td>1992</td>\n",
       "      <td>1204004</td>\n",
       "    </tr>\n",
       "    <tr>\n",
       "      <th>3</th>\n",
       "      <td>1993</td>\n",
       "      <td>1217129</td>\n",
       "    </tr>\n",
       "    <tr>\n",
       "      <th>4</th>\n",
       "      <td>1994</td>\n",
       "      <td>1228992</td>\n",
       "    </tr>\n",
       "    <tr>\n",
       "      <th>5</th>\n",
       "      <td>1995</td>\n",
       "      <td>1239940</td>\n",
       "    </tr>\n",
       "    <tr>\n",
       "      <th>6</th>\n",
       "      <td>1996</td>\n",
       "      <td>1249981</td>\n",
       "    </tr>\n",
       "    <tr>\n",
       "      <th>7</th>\n",
       "      <td>1997</td>\n",
       "      <td>1259067</td>\n",
       "    </tr>\n",
       "    <tr>\n",
       "      <th>8</th>\n",
       "      <td>1998</td>\n",
       "      <td>1267442</td>\n",
       "    </tr>\n",
       "    <tr>\n",
       "      <th>9</th>\n",
       "      <td>1999</td>\n",
       "      <td>1275407</td>\n",
       "    </tr>\n",
       "    <tr>\n",
       "      <th>10</th>\n",
       "      <td>2000</td>\n",
       "      <td>1283199</td>\n",
       "    </tr>\n",
       "    <tr>\n",
       "      <th>11</th>\n",
       "      <td>2001</td>\n",
       "      <td>1290938</td>\n",
       "    </tr>\n",
       "    <tr>\n",
       "      <th>12</th>\n",
       "      <td>2002</td>\n",
       "      <td>1298647</td>\n",
       "    </tr>\n",
       "    <tr>\n",
       "      <th>13</th>\n",
       "      <td>2003</td>\n",
       "      <td>1306344</td>\n",
       "    </tr>\n",
       "    <tr>\n",
       "      <th>14</th>\n",
       "      <td>2004</td>\n",
       "      <td>1314007</td>\n",
       "    </tr>\n",
       "    <tr>\n",
       "      <th>15</th>\n",
       "      <td>2005</td>\n",
       "      <td>1321623</td>\n",
       "    </tr>\n",
       "    <tr>\n",
       "      <th>16</th>\n",
       "      <td>2006</td>\n",
       "      <td>1329209</td>\n",
       "    </tr>\n",
       "    <tr>\n",
       "      <th>17</th>\n",
       "      <td>2007</td>\n",
       "      <td>1336801</td>\n",
       "    </tr>\n",
       "    <tr>\n",
       "      <th>18</th>\n",
       "      <td>2008</td>\n",
       "      <td>1344415</td>\n",
       "    </tr>\n",
       "    <tr>\n",
       "      <th>19</th>\n",
       "      <td>2009</td>\n",
       "      <td>1352068</td>\n",
       "    </tr>\n",
       "    <tr>\n",
       "      <th>20</th>\n",
       "      <td>2010</td>\n",
       "      <td>1359755</td>\n",
       "    </tr>\n",
       "    <tr>\n",
       "      <th>21</th>\n",
       "      <td>2011</td>\n",
       "      <td>1367480</td>\n",
       "    </tr>\n",
       "    <tr>\n",
       "      <th>22</th>\n",
       "      <td>2012</td>\n",
       "      <td>1375199</td>\n",
       "    </tr>\n",
       "    <tr>\n",
       "      <th>23</th>\n",
       "      <td>2013</td>\n",
       "      <td>1382793</td>\n",
       "    </tr>\n",
       "    <tr>\n",
       "      <th>24</th>\n",
       "      <td>2014</td>\n",
       "      <td>1390110</td>\n",
       "    </tr>\n",
       "    <tr>\n",
       "      <th>25</th>\n",
       "      <td>2015</td>\n",
       "      <td>1397029</td>\n",
       "    </tr>\n",
       "    <tr>\n",
       "      <th>26</th>\n",
       "      <td>2016</td>\n",
       "      <td>1403500</td>\n",
       "    </tr>\n",
       "    <tr>\n",
       "      <th>27</th>\n",
       "      <td>2017</td>\n",
       "      <td>1409517</td>\n",
       "    </tr>\n",
       "    <tr>\n",
       "      <th>28</th>\n",
       "      <td>2018</td>\n",
       "      <td>1415046</td>\n",
       "    </tr>\n",
       "    <tr>\n",
       "      <th>29</th>\n",
       "      <td>2019</td>\n",
       "      <td>1420062</td>\n",
       "    </tr>\n",
       "    <tr>\n",
       "      <th>30</th>\n",
       "      <td>2020</td>\n",
       "      <td>1424548</td>\n",
       "    </tr>\n",
       "    <tr>\n",
       "      <th>31</th>\n",
       "      <td>2021</td>\n",
       "      <td>1428481</td>\n",
       "    </tr>\n",
       "  </tbody>\n",
       "</table>\n",
       "</div>"
      ],
      "text/plain": [
       "    Year Population (Thousands)\n",
       "0   1990                1172445\n",
       "1   1991                1189184\n",
       "2   1992                1204004\n",
       "3   1993                1217129\n",
       "4   1994                1228992\n",
       "5   1995                1239940\n",
       "6   1996                1249981\n",
       "7   1997                1259067\n",
       "8   1998                1267442\n",
       "9   1999                1275407\n",
       "10  2000                1283199\n",
       "11  2001                1290938\n",
       "12  2002                1298647\n",
       "13  2003                1306344\n",
       "14  2004                1314007\n",
       "15  2005                1321623\n",
       "16  2006                1329209\n",
       "17  2007                1336801\n",
       "18  2008                1344415\n",
       "19  2009                1352068\n",
       "20  2010                1359755\n",
       "21  2011                1367480\n",
       "22  2012                1375199\n",
       "23  2013                1382793\n",
       "24  2014                1390110\n",
       "25  2015                1397029\n",
       "26  2016                1403500\n",
       "27  2017                1409517\n",
       "28  2018                1415046\n",
       "29  2019                1420062\n",
       "30  2020                1424548\n",
       "31  2021                1428481"
      ]
     },
     "execution_count": 195,
     "metadata": {},
     "output_type": "execute_result"
    }
   ],
   "source": [
    "#print result of query\n",
    "china_df = pd.DataFrame(cursor.fetchall(), columns=['Year', 'Population (Thousands)'])\n",
    "china_df"
   ]
  },
  {
   "cell_type": "code",
   "execution_count": 196,
   "id": "9b59ca35",
   "metadata": {},
   "outputs": [
    {
     "data": {
      "text/html": [
       "<div>\n",
       "<style scoped>\n",
       "    .dataframe tbody tr th:only-of-type {\n",
       "        vertical-align: middle;\n",
       "    }\n",
       "\n",
       "    .dataframe tbody tr th {\n",
       "        vertical-align: top;\n",
       "    }\n",
       "\n",
       "    .dataframe thead th {\n",
       "        text-align: right;\n",
       "    }\n",
       "</style>\n",
       "<table border=\"1\" class=\"dataframe\">\n",
       "  <thead>\n",
       "    <tr style=\"text-align: right;\">\n",
       "      <th></th>\n",
       "      <th>Year</th>\n",
       "      <th>Population (Thousands)</th>\n",
       "    </tr>\n",
       "  </thead>\n",
       "  <tbody>\n",
       "    <tr>\n",
       "      <th>25</th>\n",
       "      <td>2015</td>\n",
       "      <td>1397029</td>\n",
       "    </tr>\n",
       "    <tr>\n",
       "      <th>26</th>\n",
       "      <td>2016</td>\n",
       "      <td>1403500</td>\n",
       "    </tr>\n",
       "    <tr>\n",
       "      <th>27</th>\n",
       "      <td>2017</td>\n",
       "      <td>1409517</td>\n",
       "    </tr>\n",
       "    <tr>\n",
       "      <th>28</th>\n",
       "      <td>2018</td>\n",
       "      <td>1415046</td>\n",
       "    </tr>\n",
       "    <tr>\n",
       "      <th>29</th>\n",
       "      <td>2019</td>\n",
       "      <td>1420062</td>\n",
       "    </tr>\n",
       "    <tr>\n",
       "      <th>30</th>\n",
       "      <td>2020</td>\n",
       "      <td>1424548</td>\n",
       "    </tr>\n",
       "    <tr>\n",
       "      <th>31</th>\n",
       "      <td>2021</td>\n",
       "      <td>1428481</td>\n",
       "    </tr>\n",
       "  </tbody>\n",
       "</table>\n",
       "</div>"
      ],
      "text/plain": [
       "    Year Population (Thousands)\n",
       "25  2015                1397029\n",
       "26  2016                1403500\n",
       "27  2017                1409517\n",
       "28  2018                1415046\n",
       "29  2019                1420062\n",
       "30  2020                1424548\n",
       "31  2021                1428481"
      ]
     },
     "execution_count": 196,
     "metadata": {},
     "output_type": "execute_result"
    }
   ],
   "source": [
    "#train test split\n",
    "#lets do 6 years of training 4 of test\n",
    "training_data = china_df[0:25]\n",
    "\n",
    "test_data = china_df[25:]\n",
    "test_data\n"
   ]
  },
  {
   "cell_type": "code",
   "execution_count": null,
   "id": "ed3448df",
   "metadata": {},
   "outputs": [],
   "source": []
  },
  {
   "cell_type": "code",
   "execution_count": 197,
   "id": "bc9f63ab",
   "metadata": {},
   "outputs": [],
   "source": [
    "#EDF"
   ]
  },
  {
   "cell_type": "code",
   "execution_count": 198,
   "id": "9dc2adff",
   "metadata": {},
   "outputs": [
    {
     "data": {
      "text/plain": [
       "[<matplotlib.lines.Line2D at 0x1207003c808>]"
      ]
     },
     "execution_count": 198,
     "metadata": {},
     "output_type": "execute_result"
    },
    {
     "data": {
      "image/png": "[encoded data removed]",
      "text/plain": [
       "<Figure size 720x432 with 1 Axes>"
      ]
     },
     "metadata": {
      "needs_background": "light"
     },
     "output_type": "display_data"
    }
   ],
   "source": [
    "X_training=training_data['Year'].astype('int32')\n",
    "y_training= training_data['Population (Thousands)'].astype('int32')\n",
    "plt.plot(X_training,y_training)"
   ]
  },
  {
   "cell_type": "code",
   "execution_count": 199,
   "id": "26cd553f",
   "metadata": {},
   "outputs": [
    {
     "data": {
      "text/plain": [
       "<AxesSubplot:xlabel='Lag', ylabel='Autocorrelation'>"
      ]
     },
     "execution_count": 199,
     "metadata": {},
     "output_type": "execute_result"
    },
    {
     "data": {
      "image/png": "[encoded data removed]",
      "text/plain": [
       "<Figure size 720x432 with 1 Axes>"
      ]
     },
     "metadata": {
      "needs_background": "light"
     },
     "output_type": "display_data"
    }
   ],
   "source": [
    "#auto correlation\n",
    "autocorrelation_plot(y_training)"
   ]
  },
  {
   "cell_type": "code",
   "execution_count": 200,
   "id": "c324f59c",
   "metadata": {},
   "outputs": [
    {
     "name": "stderr",
     "output_type": "stream",
     "text": [
      "C:\\Users\\djkri\\anaconda3\\envs\\mlenv\\lib\\site-packages\\statsmodels\\graphics\\tsaplots.py:353: FutureWarning: The default method 'yw' can produce PACF values outside of the [-1,1] interval. After 0.13, the default will change tounadjusted Yule-Walker ('ywm'). You can use this method now by setting method='ywm'.\n",
      "  FutureWarning,\n"
     ]
    },
    {
     "data": {
      "image/png": "[encoded data removed]",
      "text/plain": [
       "<Figure size 720x432 with 1 Axes>"
      ]
     },
     "metadata": {
      "needs_background": "light"
     },
     "output_type": "display_data"
    }
   ],
   "source": [
    "#partial auto correlation\n",
    "plot_pacf(y_training,lags=10)\n",
    "plt.show()"
   ]
  },
  {
   "cell_type": "code",
   "execution_count": 201,
   "id": "0a7648b2",
   "metadata": {},
   "outputs": [],
   "source": [
    "#orders for arima model \n",
    "# p (from  pacf plot) intercepts y=0 at ~ lag-2, so will start with 2\n",
    "# Q will start with 0\n",
    "# 1 for d"
   ]
  },
  {
   "cell_type": "code",
   "execution_count": 202,
   "id": "fe8d6f06",
   "metadata": {},
   "outputs": [
    {
     "name": "stdout",
     "output_type": "stream",
     "text": [
      "                                 SARIMAX Results                                  \n",
      "==================================================================================\n",
      "Dep. Variable:     Population (Thousands)   No. Observations:                   25\n",
      "Model:                     ARIMA(2, 1, 0)   Log Likelihood               -1250.250\n",
      "Date:                    Wed, 13 Jul 2022   AIC                           2506.499\n",
      "Time:                            12:12:52   BIC                           2510.033\n",
      "Sample:                                 0   HQIC                          2507.437\n",
      "                                     - 25                                         \n",
      "Covariance Type:                      opg                                         \n",
      "==============================================================================\n",
      "                 coef    std err          z      P>|z|      [0.025      0.975]\n",
      "------------------------------------------------------------------------------\n",
      "ar.L1          0.8320      0.018     45.939      0.000       0.796       0.867\n",
      "ar.L2          0.0862      0.017      5.169      0.000       0.054       0.119\n",
      "sigma2      2869.5257    100.106     28.665      0.000    2673.322    3065.730\n",
      "===================================================================================\n",
      "Ljung-Box (L1) (Q):                  21.91   Jarque-Bera (JB):                 3.57\n",
      "Prob(Q):                              0.00   Prob(JB):                         0.17\n",
      "Heteroskedasticity (H):               2.30   Skew:                            -0.89\n",
      "Prob(H) (two-sided):                  0.26   Kurtosis:                         2.36\n",
      "===================================================================================\n",
      "\n",
      "Warnings:\n",
      "[1] Covariance matrix calculated using the outer product of gradients (complex-step).\n"
     ]
    },
    {
     "data": {
      "image/png": "[encoded data removed]",
      "text/plain": [
       "<Figure size 720x432 with 1 Axes>"
      ]
     },
     "metadata": {
      "needs_background": "light"
     },
     "output_type": "display_data"
    }
   ],
   "source": [
    "#arima model\n",
    "model = ARIMA(y_training, order=(2,1,0))\n",
    "results_AR = model.fit()\n",
    "print(results_AR.summary())\n",
    "residuals = results_AR.resid\n",
    "residuals.plot()\n",
    "plt.show()\n"
   ]
  },
  {
   "cell_type": "code",
   "execution_count": 203,
   "id": "ea0daf3c",
   "metadata": {},
   "outputs": [
    {
     "data": {
      "image/png": "[encoded data removed]",
      "text/plain": [
       "<Figure size 720x432 with 1 Axes>"
      ]
     },
     "metadata": {
      "needs_background": "light"
     },
     "output_type": "display_data"
    },
    {
     "name": "stdout",
     "output_type": "stream",
     "text": [
      "count    2.500000e+01\n",
      "mean     4.713135e+04\n",
      "std      2.344409e+05\n",
      "min     -1.002312e+03\n",
      "25%     -5.322347e+01\n",
      "50%      5.695992e+02\n",
      "75%      6.240751e+02\n",
      "max      1.172445e+06\n",
      "dtype: float64\n"
     ]
    }
   ],
   "source": [
    "residuals.plot(kind='kde')\n",
    "plt.show()\n",
    "print(residuals.describe())"
   ]
  },
  {
   "cell_type": "code",
   "execution_count": 204,
   "id": "03e7c8f5",
   "metadata": {},
   "outputs": [
    {
     "data": {
      "text/plain": [
       "25    1.396852e+06\n",
       "26    1.403092e+06\n",
       "27    1.408865e+06\n",
       "28    1.414206e+06\n",
       "29    1.419147e+06\n",
       "30    1.423719e+06\n",
       "31    1.427948e+06\n",
       "Name: predicted_mean, dtype: float64"
      ]
     },
     "execution_count": 204,
     "metadata": {},
     "output_type": "execute_result"
    }
   ],
   "source": [
    "#making predictions\n",
    "y_pred = pd.Series(results_AR.forecast(7))\n",
    "y_pred"
   ]
  },
  {
   "cell_type": "code",
   "execution_count": 205,
   "id": "ccaf9fe5",
   "metadata": {},
   "outputs": [
    {
     "data": {
      "image/png": "[encoded data removed]",
      "text/plain": [
       "<Figure size 720x432 with 1 Axes>"
      ]
     },
     "metadata": {
      "needs_background": "light"
     },
     "output_type": "display_data"
    }
   ],
   "source": [
    "#rename forecast index to correct years\n",
    "y_pred= y_pred.rename({25:2015, 26:2016, 27:2017, 28:2018, 29:2019, 30:2020, 31:2021})\n",
    "y_pred.plot()\n",
    "plt.show()\n"
   ]
  },
  {
   "cell_type": "code",
   "execution_count": 210,
   "id": "69ccd389",
   "metadata": {},
   "outputs": [
    {
     "data": {
      "image/png": "[encoded data removed]",
      "text/plain": [
       "<Figure size 720x432 with 1 Axes>"
      ]
     },
     "metadata": {
      "needs_background": "light"
     },
     "output_type": "display_data"
    }
   ],
   "source": [
    "#now plot the model predictions and the test data\n",
    "y_real = test_data['Population (Thousands)'].astype('int32')\n",
    "y_real= y_real.rename({25:2015, 26:2016, 27:2017, 28:2018, 29:2019, 30:2020, 31:2021})\n",
    "y_pred.plot(color='red', label = \"Predicted Values\")\n",
    "y_real.plot(color='blue', label = \"Real Values\")\n",
    "plt.xlabel(\"Year\")\n",
    "plt.ylabel('Population in Billions')\n",
    "plt.legend()\n",
    "plt.show()"
   ]
  },
  {
   "cell_type": "code",
   "execution_count": 207,
   "id": "3bf720e7",
   "metadata": {},
   "outputs": [
    {
     "name": "stdout",
     "output_type": "stream",
     "text": [
      "MAPE: 0.00043889875655809255 \n",
      "MASE: 0.0685670301827468\n"
     ]
    }
   ],
   "source": [
    "# prediction analysis\n",
    "#mean absolute percent error\n",
    "mape = np.mean(np.abs(y_pred-y_real)/np.abs(y_real))\n",
    "\n",
    "#mean absolute scaled error\n",
    "n = training_data.shape[0]\n",
    "d = np.abs(np.diff(y_training)).sum()/(n-1)\n",
    "errors = np.abs(y_real - y_pred)\n",
    "mase = errors.mean()/d\n",
    "print(f\"MAPE: {mape}\",\n",
    "     f\"\\nMASE: {mase}\")"
   ]
  },
  {
   "cell_type": "code",
   "execution_count": 208,
   "id": "6bf6e503",
   "metadata": {},
   "outputs": [],
   "source": [
    "#mape and mase are good for time series as they can deal with the scale of a time series forecast better than other \n",
    "#methods of accuracy/error calculation\n",
    "\n",
    "#mase compares the predictions of the model to a naive model, meaning a model that uses the last observed value as the value\n",
    "# for all of the predictions\n",
    "# a mase of 1 means that the model is just as accurate as picking the last observed value over and over as the prediction\n",
    "# a mase of 0.5 means that the model is twice as accurate as the naive model\n",
    "\n",
    "\n",
    "#the mape is a measure of error that is scale independent so it is useful for evaluating error of time series forecasting\n",
    "#the mape is represented as a percentage\n",
    "# so our mape of 0.04% should be considered a relatively good error."
   ]
  },
  {
   "cell_type": "code",
   "execution_count": 209,
   "id": "4825eec0",
   "metadata": {},
   "outputs": [],
   "source": [
    "#room for improvement for sure i think\n",
    "# the forecasted plot looks very similar to the real values\n",
    "#which suggests that the prediction is rather accurate."
   ]
  }
 ],
 "metadata": {
  "kernelspec": {
   "display_name": "mlenv",
   "language": "python",
   "name": "mlenv"
  },
  "language_info": {
   "codemirror_mode": {
    "name": "ipython",
    "version": 3
   },
   "file_extension": ".py",
   "mimetype": "text/x-python",
   "name": "python",
   "nbconvert_exporter": "python",
   "pygments_lexer": "ipython3",
   "version": "3.7.13"
  }
 },
 "nbformat": 4,
 "nbformat_minor": 5
}
